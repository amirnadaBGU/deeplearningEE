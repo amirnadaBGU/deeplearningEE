{
 "cells": [
  {
   "metadata": {},
   "cell_type": "markdown",
   "source": "# Import libraries #",
   "id": "90012f9408713e6"
  },
  {
   "metadata": {
    "collapsed": true
   },
   "cell_type": "code",
   "source": [
    "import random\n",
    "import matplotlib.pyplot as plt\n",
    "import numpy as np\n",
    "import math\n",
    "import torch\n",
    "import torch.nn as nn\n",
    "import torch.optim as optim\n",
    "from torchvision import datasets, transforms\n",
    "from torch.utils.data import DataLoader"
   ],
   "id": "initial_id",
   "outputs": [],
   "execution_count": null
  },
  {
   "metadata": {},
   "cell_type": "markdown",
   "source": "## Download MNIST ##",
   "id": "7b08d78e66b4285b"
  },
  {
   "metadata": {},
   "cell_type": "code",
   "source": [
    "# Define a transform to convert PIL images to tensors.\n",
    "transform = transforms.ToTensor()\n",
    "\n",
    "# Downloading the dataset\n",
    "train_dataset = datasets.MNIST(root='./data', train=True, download=True, transform=transform)\n",
    "test_dataset = datasets.MNIST(root='./data', train=False, download=True, transform=transform)"
   ],
   "id": "bd2acf21fb2e7369",
   "outputs": [],
   "execution_count": null
  },
  {
   "metadata": {},
   "cell_type": "markdown",
   "source": "## Some DataSet Examination ##",
   "id": "7825aac1f5e7421e"
  },
  {
   "metadata": {},
   "cell_type": "code",
   "source": [
    "random_sample = random.randint(1,2000)\n",
    "data,label = train_dataset[random_sample]\n",
    "data_np = data.numpy()\n",
    "min_val, max_val = data_np.min(), data_np.max()\n",
    "median_val = np.median(data_np)\n",
    "\n",
    "print(f\"Label is: {label}; background value is {median_val}; max value  is : {max_val}, min value  is : {min_val}\")\n",
    "\n",
    "plt.imshow(data.squeeze().numpy(), cmap='gray')\n",
    "plt.show()"
   ],
   "id": "22a065ad3634e147",
   "outputs": [],
   "execution_count": null
  },
  {
   "metadata": {},
   "cell_type": "markdown",
   "source": "## Define CNN ##\n",
   "id": "631ca450caa8db72"
  },
  {
   "metadata": {},
   "cell_type": "code",
   "source": [
    "class ConvNet(nn.Module):\n",
    "    def __init__(self):\n",
    "        pass\n",
    "    def forward(self, x):\n",
    "        pass\n",
    "device = torch.device(\"cuda\" if torch.cuda.is_available() else \"cpu\")\n",
    "print(device)\n",
    "\n",
    "# model = ConvNet().to(device)\n",
    "# criterion = nn.CrossEntropyLoss()"
   ],
   "id": "ebf5b2238c83349c",
   "outputs": [],
   "execution_count": null
  },
  {
   "metadata": {},
   "cell_type": "code",
   "source": [
    "import torch\n",
    "device = torch.device(\"cuda\" if torch.cuda.is_available() else \"cpu\")\n",
    "print(device)\n",
    "print(torch.version.cuda)"
   ],
   "id": "8b01b815fc9ea4cb",
   "outputs": [],
   "execution_count": null
  },
  {
   "metadata": {},
   "cell_type": "markdown",
   "source": "## Training Loop ##",
   "id": "3ed665a8eeec76a1"
  },
  {
   "metadata": {},
   "cell_type": "code",
   "source": [
    "# Training loop:\n",
    "learning_rate = 0.001\n",
    "num_epochs = 10\n",
    "bath_size = 64\n",
    "dataloader = DataLoader(train_dataset, batch_size=64, shuffle=True)\n",
    "\n",
    "total_samples = len(train_dataset)\n",
    "n_iterations = math.ceil(total_samples/bath_size)\n",
    "print(f\"Number of iterations per epoch: {n_iterations}\")\n",
    "\n",
    "for epoch in range(num_epochs):\n",
    "    for k,(inputs,labels) in enumerate(dataloader):\n",
    "        # forward backward,update\n",
    "        if (k+1)%5==0:\n",
    "            print(f\"epoch:{epoch+1}/{num_epochs}, step {k+1}/{n_iterations}, batch shape {inputs.shape}\")"
   ],
   "id": "5f53eff92961a07d",
   "outputs": [],
   "execution_count": null
  }
 ],
 "metadata": {
  "kernelspec": {
   "display_name": "Python 3",
   "language": "python",
   "name": "python3"
  },
  "language_info": {
   "codemirror_mode": {
    "name": "ipython",
    "version": 2
   },
   "file_extension": ".py",
   "mimetype": "text/x-python",
   "name": "python",
   "nbconvert_exporter": "python",
   "pygments_lexer": "ipython2",
   "version": "2.7.6"
  }
 },
 "nbformat": 4,
 "nbformat_minor": 5
}
