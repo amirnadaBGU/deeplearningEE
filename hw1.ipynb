{
 "cells": [
  {
   "metadata": {},
   "cell_type": "markdown",
   "source": "# Import libraries #",
   "id": "90012f9408713e6"
  },
  {
   "metadata": {
    "collapsed": true,
    "ExecuteTime": {
     "end_time": "2025-04-01T15:37:48.605283Z",
     "start_time": "2025-04-01T15:37:25.599842Z"
    }
   },
   "cell_type": "code",
   "source": [
    "import random\n",
    "import matplotlib.pyplot as plt\n",
    "import numpy as np\n",
    "import math\n",
    "import torch\n",
    "import torch.nn as nn\n",
    "from jinja2.compiler import F\n",
    "from torchvision import datasets, transforms\n",
    "from torch.utils.data import DataLoader"
   ],
   "id": "initial_id",
   "outputs": [],
   "execution_count": 1
  },
  {
   "metadata": {},
   "cell_type": "markdown",
   "source": "## Download MNIST ##",
   "id": "7b08d78e66b4285b"
  },
  {
   "metadata": {
    "ExecuteTime": {
     "end_time": "2025-04-01T16:12:36.517229Z",
     "start_time": "2025-04-01T16:12:36.475902Z"
    }
   },
   "cell_type": "code",
   "source": [
    "# Define a transform to convert PIL images to tensors.\n",
    "transform = transforms.ToTensor()\n",
    "\n",
    "# Downloading the dataset\n",
    "train_dataset = datasets.MNIST(root='./data', train=True, download=True, transform=transform)\n",
    "test_dataset = datasets.MNIST(root='./data', train=False, download=True, transform=transform)"
   ],
   "id": "bd2acf21fb2e7369",
   "outputs": [],
   "execution_count": 11
  },
  {
   "metadata": {},
   "cell_type": "markdown",
   "source": "## Some DataSet Examination ##",
   "id": "7825aac1f5e7421e"
  },
  {
   "metadata": {
    "ExecuteTime": {
     "end_time": "2025-04-01T15:38:19.653078Z",
     "start_time": "2025-04-01T15:38:19.567221Z"
    }
   },
   "cell_type": "code",
   "source": [
    "random_sample = random.randint(1,2000)\n",
    "data,label = train_dataset[random_sample]\n",
    "data_np = data.numpy()\n",
    "min_val, max_val = data_np.min(), data_np.max()\n",
    "median_val = np.median(data_np)\n",
    "\n",
    "print(f\"Label is: {label}; background value is {median_val}; max value  is : {max_val}, min value  is : {min_val}\")\n",
    "\n",
    "plt.imshow(data.squeeze().numpy(), cmap='gray')\n",
    "plt.show()"
   ],
   "id": "22a065ad3634e147",
   "outputs": [
    {
     "name": "stdout",
     "output_type": "stream",
     "text": [
      "Label is: 3; background value is 0.0; max value  is : 1.0, min value  is : 0.0\n"
     ]
    },
    {
     "data": {
      "text/plain": [
       "<Figure size 640x480 with 1 Axes>"
      ],
      "image/png": "[encoded data removed]"
     },
     "metadata": {},
     "output_type": "display_data"
    }
   ],
   "execution_count": 8
  },
  {
   "metadata": {},
   "cell_type": "markdown",
   "source": "## Define CNN ##\n",
   "id": "631ca450caa8db72"
  },
  {
   "metadata": {
    "ExecuteTime": {
     "end_time": "2025-04-01T16:17:41.286328Z",
     "start_time": "2025-04-01T16:17:41.209444Z"
    }
   },
   "cell_type": "code",
   "source": [
    "class ConvNet(nn.Module):\n",
    "    def __init__(self):\n",
    "        self.conv1 = nn.Conv2d(1, 5, 5)\n",
    "        self.pool = nn.MaxPool2d(2, 2)\n",
    "        self.conv2 = nn.Conv2d(6, 16, 5)\n",
    "        self.fc1 = nn.Linear(16 * 5 * 5, 120)\n",
    "        self.fc2 = nn.Linear(120, 64)\n",
    "        self.fc3 = nn.Linear(64, 10)\n",
    "    def forward(self, x):\n",
    "        x = self.pool(nn.functional.relu(self.conv1(x)))\n",
    "        x = self.pool(nn.functional.relu(self.conv2(x)))\n",
    "        x = x.view(-1, 16 * 5 * 5)\n",
    "        x = nn.functional.relu(self.fc1(x))\n",
    "        x = nn.functional.relu(self.fc2(x))\n",
    "        x = self.fc3(x) # softmax is included in the loss function\n",
    "        return x\n",
    "\n",
    "device = torch.device(\"cuda\" if torch.cuda.is_available() else \"cpu\")\n",
    "print(f\"{device} is in use\")\n",
    "\n",
    "model = ConvNet().to(device)\n",
    "learning_rate = 0.001\n",
    "criterion = nn.CrossEntropyLoss()\n",
    "optimizer = torch.optim.Adam(model.parameters(), lr=learning_rate)"
   ],
   "id": "ebf5b2238c83349c",
   "outputs": [
    {
     "name": "stdout",
     "output_type": "stream",
     "text": [
      "cuda is in use\n"
     ]
    },
    {
     "ename": "AttributeError",
     "evalue": "'ConvNet' object has no attribute '_modules'",
     "output_type": "error",
     "traceback": [
      "\u001B[31m---------------------------------------------------------------------------\u001B[39m",
      "\u001B[31mAttributeError\u001B[39m                            Traceback (most recent call last)",
      "\u001B[36mCell\u001B[39m\u001B[36m \u001B[39m\u001B[32mIn[12]\u001B[39m\u001B[32m, line 9\u001B[39m\n\u001B[32m      6\u001B[39m device = torch.device(\u001B[33m\"\u001B[39m\u001B[33mcuda\u001B[39m\u001B[33m\"\u001B[39m \u001B[38;5;28;01mif\u001B[39;00m torch.cuda.is_available() \u001B[38;5;28;01melse\u001B[39;00m \u001B[33m\"\u001B[39m\u001B[33mcpu\u001B[39m\u001B[33m\"\u001B[39m)\n\u001B[32m      7\u001B[39m \u001B[38;5;28mprint\u001B[39m(\u001B[33mf\u001B[39m\u001B[33m\"\u001B[39m\u001B[38;5;132;01m{\u001B[39;00mdevice\u001B[38;5;132;01m}\u001B[39;00m\u001B[33m is in use\u001B[39m\u001B[33m\"\u001B[39m)\n\u001B[32m----> \u001B[39m\u001B[32m9\u001B[39m model = \u001B[43mConvNet\u001B[49m\u001B[43m(\u001B[49m\u001B[43m)\u001B[49m\u001B[43m.\u001B[49m\u001B[43mto\u001B[49m\u001B[43m(\u001B[49m\u001B[43mdevice\u001B[49m\u001B[43m)\u001B[49m\n\u001B[32m     10\u001B[39m learning_rate = \u001B[32m0.001\u001B[39m\n\u001B[32m     11\u001B[39m criterion = nn.CrossEntropyLoss()\n",
      "\u001B[36mFile \u001B[39m\u001B[32m~\\AppData\\Local\\Programs\\Python\\Python312\\Lib\\site-packages\\torch\\nn\\modules\\module.py:1343\u001B[39m, in \u001B[36mModule.to\u001B[39m\u001B[34m(self, *args, **kwargs)\u001B[39m\n\u001B[32m   1340\u001B[39m         \u001B[38;5;28;01melse\u001B[39;00m:\n\u001B[32m   1341\u001B[39m             \u001B[38;5;28;01mraise\u001B[39;00m\n\u001B[32m-> \u001B[39m\u001B[32m1343\u001B[39m \u001B[38;5;28;01mreturn\u001B[39;00m \u001B[38;5;28;43mself\u001B[39;49m\u001B[43m.\u001B[49m\u001B[43m_apply\u001B[49m\u001B[43m(\u001B[49m\u001B[43mconvert\u001B[49m\u001B[43m)\u001B[49m\n",
      "\u001B[36mFile \u001B[39m\u001B[32m~\\AppData\\Local\\Programs\\Python\\Python312\\Lib\\site-packages\\torch\\nn\\modules\\module.py:902\u001B[39m, in \u001B[36mModule._apply\u001B[39m\u001B[34m(self, fn, recurse)\u001B[39m\n\u001B[32m    900\u001B[39m \u001B[38;5;28;01mdef\u001B[39;00m\u001B[38;5;250m \u001B[39m\u001B[34m_apply\u001B[39m(\u001B[38;5;28mself\u001B[39m, fn, recurse=\u001B[38;5;28;01mTrue\u001B[39;00m):\n\u001B[32m    901\u001B[39m     \u001B[38;5;28;01mif\u001B[39;00m recurse:\n\u001B[32m--> \u001B[39m\u001B[32m902\u001B[39m \u001B[43m        \u001B[49m\u001B[38;5;28;43;01mfor\u001B[39;49;00m\u001B[43m \u001B[49m\u001B[43mmodule\u001B[49m\u001B[43m \u001B[49m\u001B[38;5;129;43;01min\u001B[39;49;00m\u001B[43m \u001B[49m\u001B[38;5;28;43mself\u001B[39;49m\u001B[43m.\u001B[49m\u001B[43mchildren\u001B[49m\u001B[43m(\u001B[49m\u001B[43m)\u001B[49m\u001B[43m:\u001B[49m\n\u001B[32m    903\u001B[39m \u001B[43m            \u001B[49m\u001B[43mmodule\u001B[49m\u001B[43m.\u001B[49m\u001B[43m_apply\u001B[49m\u001B[43m(\u001B[49m\u001B[43mfn\u001B[49m\u001B[43m)\u001B[49m\n\u001B[32m    905\u001B[39m     \u001B[38;5;28;01mdef\u001B[39;00m\u001B[38;5;250m \u001B[39m\u001B[34mcompute_should_use_set_data\u001B[39m(tensor, tensor_applied):\n",
      "\u001B[36mFile \u001B[39m\u001B[32m~\\AppData\\Local\\Programs\\Python\\Python312\\Lib\\site-packages\\torch\\nn\\modules\\module.py:2725\u001B[39m, in \u001B[36mModule.children\u001B[39m\u001B[34m(self)\u001B[39m\n\u001B[32m   2719\u001B[39m \u001B[38;5;28;01mdef\u001B[39;00m\u001B[38;5;250m \u001B[39m\u001B[34mchildren\u001B[39m(\u001B[38;5;28mself\u001B[39m) -> Iterator[\u001B[33m\"\u001B[39m\u001B[33mModule\u001B[39m\u001B[33m\"\u001B[39m]:\n\u001B[32m   2720\u001B[39m \u001B[38;5;250m    \u001B[39m\u001B[33mr\u001B[39m\u001B[33;03m\"\"\"Return an iterator over immediate children modules.\u001B[39;00m\n\u001B[32m   2721\u001B[39m \n\u001B[32m   2722\u001B[39m \u001B[33;03m    Yields:\u001B[39;00m\n\u001B[32m   2723\u001B[39m \u001B[33;03m        Module: a child module\u001B[39;00m\n\u001B[32m   2724\u001B[39m \u001B[33;03m    \"\"\"\u001B[39;00m\n\u001B[32m-> \u001B[39m\u001B[32m2725\u001B[39m \u001B[43m    \u001B[49m\u001B[38;5;28;43;01mfor\u001B[39;49;00m\u001B[43m \u001B[49m\u001B[43m_name\u001B[49m\u001B[43m,\u001B[49m\u001B[43m \u001B[49m\u001B[43mmodule\u001B[49m\u001B[43m \u001B[49m\u001B[38;5;129;43;01min\u001B[39;49;00m\u001B[43m \u001B[49m\u001B[38;5;28;43mself\u001B[39;49m\u001B[43m.\u001B[49m\u001B[43mnamed_children\u001B[49m\u001B[43m(\u001B[49m\u001B[43m)\u001B[49m\u001B[43m:\u001B[49m\n\u001B[32m   2726\u001B[39m \u001B[43m        \u001B[49m\u001B[38;5;28;43;01myield\u001B[39;49;00m\u001B[43m \u001B[49m\u001B[43mmodule\u001B[49m\n",
      "\u001B[36mFile \u001B[39m\u001B[32m~\\AppData\\Local\\Programs\\Python\\Python312\\Lib\\site-packages\\torch\\nn\\modules\\module.py:2743\u001B[39m, in \u001B[36mModule.named_children\u001B[39m\u001B[34m(self)\u001B[39m\n\u001B[32m   2729\u001B[39m \u001B[38;5;250m\u001B[39m\u001B[33mr\u001B[39m\u001B[33;03m\"\"\"Return an iterator over immediate children modules, yielding both the name of the module as well as the module itself.\u001B[39;00m\n\u001B[32m   2730\u001B[39m \n\u001B[32m   2731\u001B[39m \u001B[33;03mYields:\u001B[39;00m\n\u001B[32m   (...)\u001B[39m\u001B[32m   2740\u001B[39m \n\u001B[32m   2741\u001B[39m \u001B[33;03m\"\"\"\u001B[39;00m\n\u001B[32m   2742\u001B[39m memo = \u001B[38;5;28mset\u001B[39m()\n\u001B[32m-> \u001B[39m\u001B[32m2743\u001B[39m \u001B[38;5;28;01mfor\u001B[39;00m name, module \u001B[38;5;129;01min\u001B[39;00m \u001B[38;5;28;43mself\u001B[39;49m\u001B[43m.\u001B[49m\u001B[43m_modules\u001B[49m.items():\n\u001B[32m   2744\u001B[39m     \u001B[38;5;28;01mif\u001B[39;00m module \u001B[38;5;129;01mis\u001B[39;00m \u001B[38;5;129;01mnot\u001B[39;00m \u001B[38;5;28;01mNone\u001B[39;00m \u001B[38;5;129;01mand\u001B[39;00m module \u001B[38;5;129;01mnot\u001B[39;00m \u001B[38;5;129;01min\u001B[39;00m memo:\n\u001B[32m   2745\u001B[39m         memo.add(module)\n",
      "\u001B[36mFile \u001B[39m\u001B[32m~\\AppData\\Local\\Programs\\Python\\Python312\\Lib\\site-packages\\torch\\nn\\modules\\module.py:1928\u001B[39m, in \u001B[36mModule.__getattr__\u001B[39m\u001B[34m(self, name)\u001B[39m\n\u001B[32m   1926\u001B[39m     \u001B[38;5;28;01mif\u001B[39;00m name \u001B[38;5;129;01min\u001B[39;00m modules:\n\u001B[32m   1927\u001B[39m         \u001B[38;5;28;01mreturn\u001B[39;00m modules[name]\n\u001B[32m-> \u001B[39m\u001B[32m1928\u001B[39m \u001B[38;5;28;01mraise\u001B[39;00m \u001B[38;5;167;01mAttributeError\u001B[39;00m(\n\u001B[32m   1929\u001B[39m     \u001B[33mf\u001B[39m\u001B[33m\"\u001B[39m\u001B[33m'\u001B[39m\u001B[38;5;132;01m{\u001B[39;00m\u001B[38;5;28mtype\u001B[39m(\u001B[38;5;28mself\u001B[39m).\u001B[34m__name__\u001B[39m\u001B[38;5;132;01m}\u001B[39;00m\u001B[33m'\u001B[39m\u001B[33m object has no attribute \u001B[39m\u001B[33m'\u001B[39m\u001B[38;5;132;01m{\u001B[39;00mname\u001B[38;5;132;01m}\u001B[39;00m\u001B[33m'\u001B[39m\u001B[33m\"\u001B[39m\n\u001B[32m   1930\u001B[39m )\n",
      "\u001B[31mAttributeError\u001B[39m: 'ConvNet' object has no attribute '_modules'"
     ]
    }
   ],
   "execution_count": 12
  },
  {
   "metadata": {},
   "cell_type": "markdown",
   "source": "## Training Loop ##",
   "id": "3ed665a8eeec76a1"
  },
  {
   "metadata": {},
   "cell_type": "code",
   "source": [
    "# Training loop:\n",
    "num_epochs = 10\n",
    "bath_size = 64\n",
    "dataloader = DataLoader(train_dataset, batch_size=64, shuffle=True)\n",
    "\n",
    "total_samples = len(train_dataset)\n",
    "n_iterations = math.ceil(total_samples/bath_size)\n",
    "print(f\"Number of iterations per epoch: {n_iterations}\")\n",
    "\n",
    "for epoch in range(num_epochs):\n",
    "    for k,(images,labels) in enumerate(dataloader):\n",
    "        # Transfer data to device:\n",
    "        images = images.to(device)\n",
    "        labels = labels.to(device)\n",
    "\n",
    "        # Forward pass:\n",
    "        outputs = model(images)\n",
    "        loss = criterion(outputs, labels)\n",
    "\n",
    "        # Back propagation:\n",
    "        optimizer.zero_grad()\n",
    "        loss.backward()\n",
    "        optimizer.step()\n",
    "    print(loss.item())\n",
    "    print(f\"Epoch {epoch+1}/{num_epochs}\")\n"
   ],
   "id": "5f53eff92961a07d",
   "outputs": [],
   "execution_count": null
  }
 ],
 "metadata": {
  "kernelspec": {
   "display_name": "Python 3",
   "language": "python",
   "name": "python3"
  },
  "language_info": {
   "codemirror_mode": {
    "name": "ipython",
    "version": 2
   },
   "file_extension": ".py",
   "mimetype": "text/x-python",
   "name": "python",
   "nbconvert_exporter": "python",
   "pygments_lexer": "ipython2",
   "version": "2.7.6"
  }
 },
 "nbformat": 4,
 "nbformat_minor": 5
}
